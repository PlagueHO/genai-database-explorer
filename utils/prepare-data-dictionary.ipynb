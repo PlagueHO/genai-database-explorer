{
 "cells": [
  {
   "cell_type": "markdown",
   "metadata": {},
   "source": [
    "# Split Data Dictionary Markdown\n",
    "\n",
    "This notebook is used to split the data dictionary into separate markdown files for each table. This will be used to add "
   ]
  },
  {
   "cell_type": "code",
   "execution_count": null,
   "metadata": {
    "dotnet_interactive": {
     "language": "csharp"
    },
    "polyglot_notebook": {
     "kernelName": "csharp"
    },
    "vscode": {
     "languageId": "polyglot-notebook"
    }
   },
   "outputs": [
    {
     "ename": "Error",
     "evalue": "(1,109): error CS1002: ; expected\r\n(1,109): error CS1010: Newline in constant",
     "output_type": "error",
     "traceback": [
      "(1,109): error CS1002: ; expected\r\n",
      "(1,109): error CS1010: Newline in constant"
     ]
    }
   ],
   "source": [
    "var sourceMarkdownFile = \"C:\\\\Users\\\\dascottr\\\\OneDrive - Microsoft\\\\ISV\\\\Vista\\\\NL2SQL\\\\data_dictionary.md\";"
   ]
  },
  {
   "cell_type": "code",
   "execution_count": 2,
   "id": "split-markdown-file",
   "metadata": {
    "dotnet_interactive": {
     "language": "csharp"
    },
    "polyglot_notebook": {
     "kernelName": "csharp"
    },
    "vscode": {
     "languageId": "polyglot-notebook"
    }
   },
   "outputs": [
    {
     "ename": "Error",
     "evalue": "System.IO.FileNotFoundException: Could not find file 'd:\\source\\github\\plagueho\\genai-database-explorer\\utils\\data_dictionary.md'.\r\nFile name: 'd:\\source\\github\\plagueho\\genai-database-explorer\\utils\\data_dictionary.md'\r\n   at Microsoft.Win32.SafeHandles.SafeFileHandle.CreateFile(String fullPath, FileMode mode, FileAccess access, FileShare share, FileOptions options)\r\n   at Microsoft.Win32.SafeHandles.SafeFileHandle.Open(String fullPath, FileMode mode, FileAccess access, FileShare share, FileOptions options, Int64 preallocationSize, Nullable`1 unixCreateMode)\r\n   at System.IO.Strategies.OSFileStreamStrategy..ctor(String path, FileMode mode, FileAccess access, FileShare share, FileOptions options, Int64 preallocationSize, Nullable`1 unixCreateMode)\r\n   at System.IO.Strategies.AsyncWindowsFileStreamStrategy..ctor(String path, FileMode mode, FileAccess access, FileShare share, FileOptions options, Int64 preallocationSize, Nullable`1 unixCreateMode)\r\n   at System.IO.Strategies.FileStreamHelpers.ChooseStrategyCore(String path, FileMode mode, FileAccess access, FileShare share, FileOptions options, Int64 preallocationSize, Nullable`1 unixCreateMode)\r\n   at System.IO.FileStream..ctor(String path, FileMode mode, FileAccess access, FileShare share, Int32 bufferSize, FileOptions options, Int64 preallocationSize)\r\n   at System.IO.File.AsyncStreamReader(String path, Encoding encoding)\r\n   at System.IO.File.InternalReadAllLinesAsync(String path, Encoding encoding, CancellationToken cancellationToken)\r\n   at Submission#2.<SplitMarkdownFile>d__1.MoveNext()\r\n--- End of stack trace from previous location ---\r\n   at Submission#2.<<Initialize>>d__0.MoveNext()\r\n--- End of stack trace from previous location ---\r\n   at Microsoft.CodeAnalysis.Scripting.ScriptExecutionState.RunSubmissionsAsync[TResult](ImmutableArray`1 precedingExecutors, Func`2 currentExecutor, StrongBox`1 exceptionHolderOpt, Func`2 catchExceptionOpt, CancellationToken cancellationToken)",
     "output_type": "error",
     "traceback": [
      "System.IO.FileNotFoundException: Could not find file 'd:\\source\\github\\plagueho\\genai-database-explorer\\utils\\data_dictionary.md'.\r\n",
      "File name: 'd:\\source\\github\\plagueho\\genai-database-explorer\\utils\\data_dictionary.md'\r\n",
      "   at Microsoft.Win32.SafeHandles.SafeFileHandle.CreateFile(String fullPath, FileMode mode, FileAccess access, FileShare share, FileOptions options)\r\n",
      "   at Microsoft.Win32.SafeHandles.SafeFileHandle.Open(String fullPath, FileMode mode, FileAccess access, FileShare share, FileOptions options, Int64 preallocationSize, Nullable`1 unixCreateMode)\r\n",
      "   at System.IO.Strategies.OSFileStreamStrategy..ctor(String path, FileMode mode, FileAccess access, FileShare share, FileOptions options, Int64 preallocationSize, Nullable`1 unixCreateMode)\r\n",
      "   at System.IO.Strategies.AsyncWindowsFileStreamStrategy..ctor(String path, FileMode mode, FileAccess access, FileShare share, FileOptions options, Int64 preallocationSize, Nullable`1 unixCreateMode)\r\n",
      "   at System.IO.Strategies.FileStreamHelpers.ChooseStrategyCore(String path, FileMode mode, FileAccess access, FileShare share, FileOptions options, Int64 preallocationSize, Nullable`1 unixCreateMode)\r\n",
      "   at System.IO.FileStream..ctor(String path, FileMode mode, FileAccess access, FileShare share, Int32 bufferSize, FileOptions options, Int64 preallocationSize)\r\n",
      "   at System.IO.File.AsyncStreamReader(String path, Encoding encoding)\r\n",
      "   at System.IO.File.InternalReadAllLinesAsync(String path, Encoding encoding, CancellationToken cancellationToken)\r\n",
      "   at Submission#2.<SplitMarkdownFile>d__1.MoveNext()\r\n",
      "--- End of stack trace from previous location ---\r\n",
      "   at Submission#2.<<Initialize>>d__0.MoveNext()\r\n",
      "--- End of stack trace from previous location ---\r\n",
      "   at Microsoft.CodeAnalysis.Scripting.ScriptExecutionState.RunSubmissionsAsync[TResult](ImmutableArray`1 precedingExecutors, Func`2 currentExecutor, StrongBox`1 exceptionHolderOpt, Func`2 catchExceptionOpt, CancellationToken cancellationToken)"
     ]
    }
   ],
   "source": [
    "using System;\n",
    "using System.IO;\n",
    "using System.Linq;\n",
    "using System.Text.RegularExpressions;\n",
    "using System.Threading.Tasks;\n",
    "\n",
    "async Task SplitMarkdownFile(string inputFilePath)\n",
    "{\n",
    "    string outputDirectory = Path.Combine(Path.GetDirectoryName(inputFilePath), \"data_dictionary_tables\");\n",
    "    Directory.CreateDirectory(outputDirectory);\n",
    "\n",
    "    string[] lines = await File.ReadAllLinesAsync(inputFilePath);\n",
    "    var splitFiles = lines\n",
    "        .Select((line, index) => new { line, index })\n",
    "        .Where(x => x.line.StartsWith(\"## \"))\n",
    "        .Select(x => x.index)\n",
    "        .ToList();\n",
    "\n",
    "    splitFiles.Add(lines.Length);\n",
    "\n",
    "    for (int i = 0; i < splitFiles.Count - 1; i++)\n",
    "    {\n",
    "        int start = splitFiles[i];\n",
    "        int end = splitFiles[i + 1];\n",
    "        string heading = lines[start].Substring(3).Trim();\n",
    "        string tableName = heading.Contains(\" - \") ? heading.Split(\" - \")[1] : heading;\n",
    "        string fileName = tableName + \".md\";\n",
    "        string outputFilePath = Path.Combine(outputDirectory, fileName);\n",
    "        await File.WriteAllLinesAsync(outputFilePath, lines[start..end]);\n",
    "    }\n",
    "}\n",
    "\n",
    "await SplitMarkdownFile(sourceMarkdownFile);"
   ]
  }
 ],
 "metadata": {
  "kernelspec": {
   "display_name": ".NET (C#)",
   "language": "C#",
   "name": ".net-csharp"
  },
  "language_info": {
   "codemirror_mode": {
    "name": "ipython",
    "version": 3
   },
   "file_extension": ".py",
   "mimetype": "text/x-python",
   "name": "python",
   "nbconvert_exporter": "python",
   "pygments_lexer": "ipython3",
   "version": "3.12.7"
  },
  "polyglot_notebook": {
   "kernelInfo": {
    "defaultKernelName": "csharp",
    "items": [
     {
      "aliases": [],
      "name": "csharp"
     }
    ]
   }
  }
 },
 "nbformat": 4,
 "nbformat_minor": 2
}
